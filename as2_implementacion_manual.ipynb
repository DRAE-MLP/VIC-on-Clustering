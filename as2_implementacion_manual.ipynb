{
 "cells": [
  {
   "cell_type": "markdown",
   "metadata": {},
   "source": [
    "# VIC Clustering Validation "
   ]
  },
  {
   "cell_type": "markdown",
   "metadata": {},
   "source": [
    "## Libraries"
   ]
  },
  {
   "cell_type": "code",
   "execution_count": 1,
   "metadata": {},
   "outputs": [],
   "source": [
    "# Importing Libraries\n",
    "import pandas as pd\n",
    "import numpy as np\n",
    "rs = 123\n",
    "import time\n",
    "#Preprocessing\n",
    "from sklearn import preprocessing\n",
    "import category_encoders as ce\n",
    "import glob\n",
    "#Sci-kit libraries\n",
    "from sklearn import metrics\n",
    "from sklearn import utils\n",
    "from sklearn import model_selection\n",
    "from sklearn.linear_model import LogisticRegression\n",
    "from sklearn.ensemble import RandomForestClassifier, GradientBoostingClassifier\n",
    "from sklearn.svm import SVC\n",
    "from sklearn.neighbors import KNeighborsClassifier\n",
    "from sklearn.naive_bayes import GaussianNB\n",
    "from sklearn.discriminant_analysis import LinearDiscriminantAnalysis\n",
    "from sklearn.naive_bayes import MultinomialNB\n",
    "from sklearn.neural_network import MLPClassifier\n",
    "from sklearn.model_selection import StratifiedKFold\n"
   ]
  },
  {
   "cell_type": "markdown",
   "metadata": {},
   "source": [
    "## VIC Implementation for 3 clusters"
   ]
  },
  {
   "cell_type": "code",
   "execution_count": 43,
   "metadata": {},
   "outputs": [],
   "source": [
    "from sklearn.multiclass import OneVsRestClassifier\n",
    "from sklearn.metrics import roc_curve, auc\n",
    "from sklearn.preprocessing import label_binarize"
   ]
  },
  {
   "cell_type": "code",
   "execution_count": 119,
   "metadata": {},
   "outputs": [],
   "source": [
    "def VIC_3_classes(folder_path, classifier, k = 10):\n",
    "    auc_scores = []\n",
    "    for file in glob.glob(folder_path):\n",
    "        if file =='csv_partitions\\sc_c3_th0_0.csv': #3\n",
    "        #if file == 'csv_partitions\\sc_c2_th0.csv': #2\n",
    "            print(file)\n",
    "            # read as pandas data frame\n",
    "            db = pd.read_csv(file)\n",
    "            #missing values\n",
    "            db = db.replace([np.inf, -np.inf], np.nan)\n",
    "            db = db.fillna(0)\n",
    "            # define X and y\n",
    "            y = db.iloc[:,-1:].values\n",
    "            X = db.iloc[:,2:-2].values\n",
    "            # encode categorical variables\n",
    "            labelencoder = preprocessing.LabelEncoder()\n",
    "            X[:,0] = labelencoder.fit_transform(X[:,0])\n",
    "            # Binarize the output with 3 classes\n",
    "            y = label_binarize(y, classes=[0,1,2])\n",
    "            #Pipeline - Scale and Evaluate with CV\n",
    "            kf = model_selection.KFold(n_splits = k)\n",
    "            for train_index, test_index in kf.split(X):\n",
    "                #split train-test\n",
    "                X_train,X_test = X[train_index], X[test_index]\n",
    "                y_train, y_test = y[train_index], y[test_index]\n",
    "                # scale data\n",
    "                min_max_scaler = preprocessing.MinMaxScaler(feature_range=(0,1))\n",
    "                X_train = min_max_scaler.fit_transform(X_train)\n",
    "                X_test  = min_max_scaler.transform(X_test)\n",
    "                #fit model\n",
    "                model = OneVsRestClassifier(classifier)\n",
    "                y_score = model.fit(X_train,y_train).decision_function(X_test)\n",
    "                #append result to auc_scores\n",
    "                # Compute ROC curve and ROC area for each class\n",
    "                fpr = dict()\n",
    "                tpr = dict()\n",
    "                roc_auc = dict()\n",
    "                for i in range(3):\n",
    "                    fpr[i], tpr[i], _ = roc_curve(y_test[:, i], y_score[:, i])\n",
    "                    roc_auc[i] = auc(fpr[i], tpr[i])\n",
    "                # Compute micro-average ROC curve and ROC area\n",
    "                fpr[\"micro\"], tpr[\"micro\"], _ = roc_curve(y_test.ravel(), y_score.ravel())\n",
    "                roc_auc[\"micro\"] = auc(fpr[\"micro\"], tpr[\"micro\"])\n",
    "                print(roc_auc)\n",
    "                auc_scores.append(roc_auc['micro'])\n",
    "            avg_auc = sum(auc_scores)/len(auc_scores)\n",
    "    return avg_auc, auc_scores"
   ]
  },
  {
   "cell_type": "code",
   "execution_count": 121,
   "metadata": {
    "tags": []
   },
   "outputs": [],
   "source": [
    "## Datasets \n",
    "folder = 'csv_partitions/*.csv'"
   ]
  },
  {
   "cell_type": "code",
   "execution_count": 122,
   "metadata": {
    "tags": []
   },
   "outputs": [
    {
     "output_type": "stream",
     "name": "stdout",
     "text": "csv_partitions\\sc_c3_th0_0.csv\n{0: 0.7948899472261552, 1: 0.5624495999007505, 2: 0.6320242656449553, 'micro': 0.7279238095238095}\n{0: 0.5578147823546596, 1: 0.6040476081622701, 2: 0.6358654240665846, 'micro': 0.7665254792844239}\n{0: 0.7209574053747831, 1: 0.5860159173249391, 2: 0.6345432893750276, 'micro': 0.7266512732358253}\n{0: 0.6678642896125159, 1: 0.531700937950938, 2: 0.6400413728803682, 'micro': 0.7326204766621991}\n{0: 0.7838402436001841, 1: 0.580642589492147, 2: 0.66700298297947, 'micro': 0.7509633034205466}\n{0: 0.7347213168187745, 1: 0.6035007495116818, 2: 0.643852978453739, 'micro': 0.7486506468154536}\n{0: 0.65205288796103, 1: 0.5808723843206602, 2: 0.6071977177967962, 'micro': 0.721084508478527}\n{0: 0.7198951952696244, 1: 0.5653589328164983, 2: 0.6384074463118581, 'micro': 0.7270063661791272}\n{0: 0.6951155462184875, 1: 0.5661090953815879, 2: 0.6645255474452555, 'micro': 0.7519120389254705}\n{0: 0.7450105042016807, 1: 0.5835657355339154, 2: 0.6460091843428821, 'micro': 0.7567176300914865}\n"
    }
   ],
   "source": [
    "avg_auc, auc_scores = VIC_3_classes(folder, LogisticRegression())"
   ]
  }
 ],
 "metadata": {
  "language_info": {
   "codemirror_mode": {
    "name": "ipython",
    "version": 3
   },
   "file_extension": ".py",
   "mimetype": "text/x-python",
   "name": "python",
   "nbconvert_exporter": "python",
   "pygments_lexer": "ipython3",
   "version": "3.7.4-final"
  },
  "orig_nbformat": 2,
  "kernelspec": {
   "name": "python3",
   "display_name": "Python 3"
  }
 },
 "nbformat": 4,
 "nbformat_minor": 2
}