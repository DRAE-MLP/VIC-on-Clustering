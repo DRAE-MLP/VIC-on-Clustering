{
 "cells": [
  {
   "cell_type": "markdown",
   "metadata": {},
   "source": [
    "# Latent Fingerprints Clustering - Model and Evaluation"
   ]
  },
  {
   "cell_type": "markdown",
   "metadata": {},
   "source": [
    "### Importing Libraries"
   ]
  },
  {
   "cell_type": "code",
   "execution_count": 1,
   "metadata": {},
   "outputs": [],
   "source": [
    "# Importing Libraries\n",
    "import pandas as pd\n",
    "import numpy as np\n",
    "rs = 123\n",
    "import time\n",
    "#Preprocessing\n",
    "from sklearn import preprocessing\n",
    "import category_encoders as ce\n",
    "import glob\n",
    "#Sci-kit libraries\n",
    "from sklearn import metrics\n",
    "from sklearn import utils\n",
    "from sklearn import model_selection\n",
    "from sklearn.preprocessing import StandardScaler\n",
    "from sklearn.pipeline import Pipeline\n",
    "from sklearn.linear_model import LogisticRegression\n",
    "from sklearn.ensemble import RandomForestClassifier, GradientBoostingClassifier\n",
    "from sklearn.svm import SVC\n",
    "from sklearn.neighbors import KNeighborsClassifier\n",
    "from sklearn.naive_bayes import GaussianNB\n",
    "from sklearn.discriminant_analysis import LinearDiscriminantAnalysis\n",
    "from sklearn.naive_bayes import MultinomialNB\n",
    "from sklearn.neural_network import MLPClassifier\n",
    "from sklearn.model_selection import StratifiedKFold\n",
    "\n"
   ]
  },
  {
   "cell_type": "markdown",
   "metadata": {},
   "source": [
    "## VIC Implementation"
   ]
  },
  {
   "cell_type": "code",
   "execution_count": 10,
   "metadata": {},
   "outputs": [],
   "source": [
    "def VIC(folder_path, classifier, k = 10):\n",
    "    best_auc = {}\n",
    "    for file in glob.glob(folder_path):\n",
    "        auc_score = {}\n",
    "        # read as pandas data frame\n",
    "        db = pd.read_csv(file)\n",
    "        #missing values\n",
    "        db = db.replace([np.inf, -np.inf], np.nan)\n",
    "        db = db.fillna(0)\n",
    "        # define X and y\n",
    "        y = db.iloc[:,-1:].values\n",
    "        X = db.iloc[:,2:-2].values\n",
    "        # encode categorical variables\n",
    "        labelencoder = preprocessing.LabelEncoder()\n",
    "        X[:,0] = labelencoder.fit_transform(X[:,0])\n",
    "        #Pipeline - Scale and Evaluate with CV\n",
    "        scaler = StandardScaler()\n",
    "        pipeline = Pipeline(steps =\n",
    "                 [('s', scaler),\n",
    "                  ('c', classifier)])\n",
    "        myscorer = metrics.make_scorer(metrics.roc_auc_score,\n",
    "                                        average='macro',\n",
    "                                        multi_class='ovo',needs_proba=True)\n",
    "        X, y = utils.shuffle(X, y, random_state=0)\n",
    "        y = y[:,0]\n",
    "        auc = model_selection.cross_validate(pipeline, X, y, cv = k, scoring = myscorer)\n",
    "        auc_score[classifier] = sum(auc['test_score'])/len(auc['test_score'])\n",
    "        # Print result\n",
    "        print(f'Partition: {file}')\n",
    "        print(f'Classifier: {classifier} \\n AUC: {auc_score[classifier]}')\n",
    "        # The best partition AUC\n",
    "        best_auc[file] = auc_score\n",
    "    return best_auc"
   ]
  },
  {
   "cell_type": "code",
   "execution_count": 25,
   "metadata": {},
   "outputs": [],
   "source": [
    "import csv\n",
    "from pathlib import Path\n",
    "def create_csv(classifier_results, output):\n",
    "    csvout = output\n",
    "    with open(csvout, 'w', newline='') as file:\n",
    "        writer = csv.writer(file)\n",
    "        writer.writerow([\"file\", \"classifier\", \"auc\"])\n",
    "        for x, y in classifier_results.items():\n",
    "            filename = Path(x)\n",
    "            writer.writerow([filename.stem, str(list(y)[0]), str(y[list(y)[0]])])"
   ]
  },
  {
   "cell_type": "code",
   "execution_count": 28,
   "metadata": {
    "tags": []
   },
   "outputs": [],
   "source": [
    "## Datasets \n",
    "folder = 'csv_partitions/*.csv'"
   ]
  },
  {
   "cell_type": "code",
   "execution_count": 13,
   "metadata": {
    "tags": []
   },
   "outputs": [
    {
     "output_type": "stream",
     "name": "stdout",
     "text": "Partition: csv_partitions/sc_c2_th0.csv\nClassifier: LogisticRegression() \n AUC: 0.7281579478828144\nPartition: csv_partitions/sc_c2_th1.csv\nClassifier: LogisticRegression() \n AUC: 0.7227136904231382\nPartition: csv_partitions/sc_c2_th2.csv\nClassifier: LogisticRegression() \n AUC: 0.7133222560425918\nPartition: csv_partitions/sc_c2_th3.csv\nClassifier: LogisticRegression() \n AUC: 0.7074824406157374\nPartition: csv_partitions/sc_c2_th4.csv\nClassifier: LogisticRegression() \n AUC: 0.7071780650445822\nPartition: csv_partitions/sc_c2_th5.csv\nClassifier: LogisticRegression() \n AUC: 0.7001124766967848\nPartition: csv_partitions/sc_c2_th6.csv\nClassifier: LogisticRegression() \n AUC: 0.6992642047556588\nPartition: csv_partitions/sc_c2_th7.csv\nClassifier: LogisticRegression() \n AUC: 0.6946328586443887\nPartition: csv_partitions/sc_c2_th8.csv\nClassifier: LogisticRegression() \n AUC: 0.6935128478835514\nPartition: csv_partitions/sc_c2_th9.csv\nClassifier: LogisticRegression() \n AUC: 0.6888706852067313\nPartition: csv_partitions/sc_c2_th10.csv\nClassifier: LogisticRegression() \n AUC: 0.6809205480597008\nPartition: csv_partitions/sc_c2_th11.csv\nClassifier: LogisticRegression() \n AUC: 0.6774838529950754\nPartition: csv_partitions/sc_c2_th12.csv\nClassifier: LogisticRegression() \n AUC: 0.6790628620857831\nPartition: csv_partitions/sc_c2_th13.csv\nClassifier: LogisticRegression() \n AUC: 0.6767381790528919\nPartition: csv_partitions/sc_c2_th14.csv\nClassifier: LogisticRegression() \n AUC: 0.6744705240287994\nPartition: csv_partitions/sc_c2_th15.csv\nClassifier: LogisticRegression() \n AUC: 0.6721070235554567\nPartition: csv_partitions/sc_c2_th16.csv\nClassifier: LogisticRegression() \n AUC: 0.6695247079683562\nPartition: csv_partitions/sc_c2_th17.csv\nClassifier: LogisticRegression() \n AUC: 0.6671182962417819\nPartition: csv_partitions/sc_c2_th18.csv\nClassifier: LogisticRegression() \n AUC: 0.6635709033261138\nPartition: csv_partitions/sc_c2_th19.csv\nClassifier: LogisticRegression() \n AUC: 0.6618123505827797\nPartition: csv_partitions/sc_c2_th20.csv\nClassifier: LogisticRegression() \n AUC: 0.6579930375520145\nPartition: csv_partitions/sc_c2_th21.csv\nClassifier: LogisticRegression() \n AUC: 0.6590960999968007\nPartition: csv_partitions/sc_c2_th22.csv\nClassifier: LogisticRegression() \n AUC: 0.6539343248455634\nPartition: csv_partitions/sc_c2_th23.csv\nClassifier: LogisticRegression() \n AUC: 0.6507147926197434\nPartition: csv_partitions/sc_c2_th24.csv\nClassifier: LogisticRegression() \n AUC: 0.6467870951121488\nPartition: csv_partitions/sc_c2_th25.csv\nClassifier: LogisticRegression() \n AUC: 0.6467493266875142\nPartition: csv_partitions/sc_c2_th26.csv\nClassifier: LogisticRegression() \n AUC: 0.6487530381499793\nPartition: csv_partitions/sc_c2_th27.csv\nClassifier: LogisticRegression() \n AUC: 0.6478048512553229\nPartition: csv_partitions/sc_c2_th28.csv\nClassifier: LogisticRegression() \n AUC: 0.6458588575553488\nPartition: csv_partitions/sc_c2_th29.csv\nClassifier: LogisticRegression() \n AUC: 0.6445123642895676\nPartition: csv_partitions/sc_c2_th30.csv\nClassifier: LogisticRegression() \n AUC: 0.6443939690454432\nPartition: csv_partitions/sc_c2_th31.csv\nClassifier: LogisticRegression() \n AUC: 0.6432258215152952\nPartition: csv_partitions/sc_c2_th32.csv\nClassifier: LogisticRegression() \n AUC: 0.6460835913312695\nPartition: csv_partitions/sc_c2_th33.csv\nClassifier: LogisticRegression() \n AUC: 0.6396028620783847\nPartition: csv_partitions/sc_c2_th34.csv\nClassifier: LogisticRegression() \n AUC: 0.6352753946979816\nPartition: csv_partitions/sc_c2_th35.csv\nClassifier: LogisticRegression() \n AUC: 0.6278353689154482\nPartition: csv_partitions/sc_c2_th36.csv\nClassifier: LogisticRegression() \n AUC: 0.6232771089761545\nPartition: csv_partitions/sc_c2_th37.csv\nClassifier: LogisticRegression() \n AUC: 0.6237863635218104\nPartition: csv_partitions/sc_c2_th38.csv\nClassifier: LogisticRegression() \n AUC: 0.6203134520692324\nPartition: csv_partitions/sc_c2_th39.csv\nClassifier: LogisticRegression() \n AUC: 0.6217283110664995\nPartition: csv_partitions/sc_c2_th40.csv\nClassifier: LogisticRegression() \n AUC: 0.6162315597385497\nPartition: csv_partitions/sc_c2_th41.csv\nClassifier: LogisticRegression() \n AUC: 0.61907550381031\nPartition: csv_partitions/sc_c2_th42.csv\nClassifier: LogisticRegression() \n AUC: 0.6165766022445778\nPartition: csv_partitions/sc_c2_th43.csv\nClassifier: LogisticRegression() \n AUC: 0.6237548963788108\nPartition: csv_partitions/sc_c2_th44.csv\nClassifier: LogisticRegression() \n AUC: 0.6234446521904186\nPartition: csv_partitions/sc_c2_th45.csv\nClassifier: LogisticRegression() \n AUC: 0.6154753254548696\nPartition: csv_partitions/sc_c2_th46.csv\nClassifier: LogisticRegression() \n AUC: 0.6201711790842226\nPartition: csv_partitions/sc_c2_th47.csv\nClassifier: LogisticRegression() \n AUC: 0.6153536546572584\nPartition: csv_partitions/sc_c2_th48.csv\nClassifier: LogisticRegression() \n AUC: 0.6124462511194718\nPartition: csv_partitions/sc_c2_th49.csv\nClassifier: LogisticRegression() \n AUC: 0.6196393640450555\nPartition: csv_partitions/sc_c2_th50.csv\nClassifier: LogisticRegression() \n AUC: 0.6068381975569779\nPartition: csv_partitions/sc_c2_th51.csv\nClassifier: LogisticRegression() \n AUC: 0.6183371430849003\nPartition: csv_partitions/sc_c2_th52.csv\nClassifier: LogisticRegression() \n AUC: 0.6260670325668777\nPartition: csv_partitions/sc_c2_th53.csv\nClassifier: LogisticRegression() \n AUC: 0.6209522886495168\nPartition: csv_partitions/sc_c3_th0_0.csv\nClassifier: LogisticRegression() \n AUC: 0.6521187341596643\nPartition: csv_partitions/sc_c3_th0_1.csv\nClassifier: LogisticRegression() \n AUC: 0.6550972684517703\nPartition: csv_partitions/sc_c3_th0_2.csv\nClassifier: LogisticRegression() \n AUC: 0.6595292887380431\nPartition: csv_partitions/sc_c3_th0_3.csv\nClassifier: LogisticRegression() \n AUC: 0.6576057472489051\nPartition: csv_partitions/sc_c3_th0_4.csv\nClassifier: LogisticRegression() \n AUC: 0.6577448059655226\nPartition: csv_partitions/sc_c3_th0_5.csv\nClassifier: LogisticRegression() \n AUC: 0.6632543439482992\nPartition: csv_partitions/sc_c3_th0_6.csv\nClassifier: LogisticRegression() \n AUC: 0.6596498885109474\nPartition: csv_partitions/sc_c3_th0_7.csv\nClassifier: LogisticRegression() \n AUC: 0.6520968139367146\nPartition: csv_partitions/sc_c3_th1_0.csv\nClassifier: LogisticRegression() \n AUC: 0.6462556509301508\nPartition: csv_partitions/sc_c3_th1_1.csv\nClassifier: LogisticRegression() \n AUC: 0.6488767193466598\nPartition: csv_partitions/sc_c3_th1_2.csv\nClassifier: LogisticRegression() \n AUC: 0.6546029112563254\nPartition: csv_partitions/sc_c3_th1_3.csv\nClassifier: LogisticRegression() \n AUC: 0.6514309894884432\nPartition: csv_partitions/sc_c3_th1_4.csv\nClassifier: LogisticRegression() \n AUC: 0.6511803449035721\nPartition: csv_partitions/sc_c3_th1_5.csv\nClassifier: LogisticRegression() \n AUC: 0.6566810887156628\nPartition: csv_partitions/sc_c3_th1_6.csv\nClassifier: LogisticRegression() \n AUC: 0.6522362647138544\nPartition: csv_partitions/sc_c3_th1_7.csv\nClassifier: LogisticRegression() \n AUC: 0.6460332368894602\nPartition: csv_partitions/sc_c3_th2_0.csv\nClassifier: LogisticRegression() \n AUC: 0.6395090750445668\nPartition: csv_partitions/sc_c3_th2_1.csv\nClassifier: LogisticRegression() \n AUC: 0.6433565123042888\nPartition: csv_partitions/sc_c3_th2_2.csv\nClassifier: LogisticRegression() \n AUC: 0.6479176927222039\nPartition: csv_partitions/sc_c3_th2_3.csv\nClassifier: LogisticRegression() \n AUC: 0.6456897228500932\nPartition: csv_partitions/sc_c3_th2_4.csv\nClassifier: LogisticRegression() \n AUC: 0.646064631174597\nPartition: csv_partitions/sc_c3_th2_5.csv\nClassifier: LogisticRegression() \n AUC: 0.6514353442993401\nPartition: csv_partitions/sc_c3_th2_6.csv\nClassifier: LogisticRegression() \n AUC: 0.6473019966783237\nPartition: csv_partitions/sc_c3_th2_7.csv\nClassifier: LogisticRegression() \n AUC: 0.6412972462855548\nPartition: csv_partitions/sc_c3_th3_0.csv\nClassifier: LogisticRegression() \n AUC: 0.6338687416908951\nPartition: csv_partitions/sc_c3_th3_1.csv\nClassifier: LogisticRegression() \n AUC: 0.6361979166378094\nPartition: csv_partitions/sc_c3_th3_2.csv\nClassifier: LogisticRegression() \n AUC: 0.6419927023258171\nPartition: csv_partitions/sc_c3_th3_3.csv\nClassifier: LogisticRegression() \n AUC: 0.6383092080087391\nPartition: csv_partitions/sc_c3_th3_4.csv\nClassifier: LogisticRegression() \n AUC: 0.64045922046532\nPartition: csv_partitions/sc_c3_th3_5.csv\nClassifier: LogisticRegression() \n AUC: 0.6467904784986395\nPartition: csv_partitions/sc_c3_th3_6.csv\nClassifier: LogisticRegression() \n AUC: 0.6423788390584952\nPartition: csv_partitions/sc_c3_th3_7.csv\nClassifier: LogisticRegression() \n AUC: 0.6374767652831418\nPartition: csv_partitions/sc_c3_th4_0.csv\nClassifier: LogisticRegression() \n AUC: 0.6302445989611298\nPartition: csv_partitions/sc_c3_th4_1.csv\nClassifier: LogisticRegression() \n AUC: 0.6329734765854664\nPartition: csv_partitions/sc_c3_th4_2.csv\nClassifier: LogisticRegression() \n AUC: 0.6377369134630506\nPartition: csv_partitions/sc_c3_th4_3.csv\nClassifier: LogisticRegression() \n AUC: 0.6357966876565515\nPartition: csv_partitions/sc_c3_th4_4.csv\nClassifier: LogisticRegression() \n AUC: 0.6384272402479793\nPartition: csv_partitions/sc_c3_th4_5.csv\nClassifier: LogisticRegression() \n AUC: 0.6451457999643893\nPartition: csv_partitions/sc_c3_th4_6.csv\nClassifier: LogisticRegression() \n AUC: 0.6414942725775433\nPartition: csv_partitions/sc_c3_th4_7.csv\nClassifier: LogisticRegression() \n AUC: 0.6366879964030376\nPartition: csv_partitions/sc_c3_th5_0.csv\nClassifier: LogisticRegression() \n AUC: 0.6237481633153488\nPartition: csv_partitions/sc_c3_th5_1.csv\nClassifier: LogisticRegression() \n AUC: 0.6240418906839664\nPartition: csv_partitions/sc_c3_th5_2.csv\nClassifier: LogisticRegression() \n AUC: 0.6317370781009284\nPartition: csv_partitions/sc_c3_th5_3.csv\nClassifier: LogisticRegression() \n AUC: 0.6311786857498131\nPartition: csv_partitions/sc_c3_th5_4.csv\nClassifier: LogisticRegression() \n AUC: 0.6348182334993421\nPartition: csv_partitions/sc_c3_th5_5.csv\nClassifier: LogisticRegression() \n AUC: 0.6418105438897319\nPartition: csv_partitions/sc_c3_th5_6.csv\nClassifier: LogisticRegression() \n AUC: 0.6385120498665637\nPartition: csv_partitions/sc_c3_th5_7.csv\nClassifier: LogisticRegression() \n AUC: 0.6344895278223602\nPartition: csv_partitions/sc_c3_th6_0.csv\nClassifier: LogisticRegression() \n AUC: 0.6124378165111899\nPartition: csv_partitions/sc_c3_th6_1.csv\nClassifier: LogisticRegression() \n AUC: 0.6171283127380545\nPartition: csv_partitions/sc_c3_th6_2.csv\nClassifier: LogisticRegression() \n AUC: 0.6255537244014687\nPartition: csv_partitions/sc_c3_th6_3.csv\nClassifier: LogisticRegression() \n AUC: 0.6256953616474659\nPartition: csv_partitions/sc_c3_th6_4.csv\nClassifier: LogisticRegression() \n AUC: 0.6307765188324013\nPartition: csv_partitions/sc_c3_th6_5.csv\nClassifier: LogisticRegression() \n AUC: 0.6377086914954218\nPartition: csv_partitions/sc_c3_th6_6.csv\nClassifier: LogisticRegression() \n AUC: 0.6341243168555198\nPartition: csv_partitions/sc_c3_th6_7.csv\nClassifier: LogisticRegression() \n AUC: 0.6311353158154068\n"
    }
   ],
   "source": [
    "results_LG = VIC(folder, LogisticRegression())"
   ]
  },
  {
   "cell_type": "code",
   "execution_count": 19,
   "metadata": {
    "tags": []
   },
   "outputs": [
    {
     "output_type": "stream",
     "name": "stdout",
     "text": "Partition: csv_partitions/sc_c2_th0.csv\nClassifier: GaussianNB() \n AUC: 0.7162533242321191\nPartition: csv_partitions/sc_c2_th1.csv\nClassifier: GaussianNB() \n AUC: 0.7130332811715933\nPartition: csv_partitions/sc_c2_th2.csv\nClassifier: GaussianNB() \n AUC: 0.6998101010999366\nPartition: csv_partitions/sc_c2_th3.csv\nClassifier: GaussianNB() \n AUC: 0.696771889966425\nPartition: csv_partitions/sc_c2_th4.csv\nClassifier: GaussianNB() \n AUC: 0.6944121282225229\nPartition: csv_partitions/sc_c2_th5.csv\nClassifier: GaussianNB() \n AUC: 0.6877058657030761\nPartition: csv_partitions/sc_c2_th6.csv\nClassifier: GaussianNB() \n AUC: 0.683731527231247\nPartition: csv_partitions/sc_c2_th7.csv\nClassifier: GaussianNB() \n AUC: 0.678744851266323\nPartition: csv_partitions/sc_c2_th8.csv\nClassifier: GaussianNB() \n AUC: 0.6763543211764604\nPartition: csv_partitions/sc_c2_th9.csv\nClassifier: GaussianNB() \n AUC: 0.673865437111228\nPartition: csv_partitions/sc_c2_th10.csv\nClassifier: GaussianNB() \n AUC: 0.6709575505653822\nPartition: csv_partitions/sc_c2_th11.csv\nClassifier: GaussianNB() \n AUC: 0.6705605760708181\nPartition: csv_partitions/sc_c2_th12.csv\nClassifier: GaussianNB() \n AUC: 0.6712370889086994\nPartition: csv_partitions/sc_c2_th13.csv\nClassifier: GaussianNB() \n AUC: 0.6674818967556969\nPartition: csv_partitions/sc_c2_th14.csv\nClassifier: GaussianNB() \n AUC: 0.6665523404466784\nPartition: csv_partitions/sc_c2_th15.csv\nClassifier: GaussianNB() \n AUC: 0.6633835319580083\nPartition: csv_partitions/sc_c2_th16.csv\nClassifier: GaussianNB() \n AUC: 0.6613911631939462\nPartition: csv_partitions/sc_c2_th17.csv\nClassifier: GaussianNB() \n AUC: 0.658389690273722\nPartition: csv_partitions/sc_c2_th18.csv\nClassifier: GaussianNB() \n AUC: 0.654108770241744\nPartition: csv_partitions/sc_c2_th19.csv\nClassifier: GaussianNB() \n AUC: 0.6529803127261768\nPartition: csv_partitions/sc_c2_th20.csv\nClassifier: GaussianNB() \n AUC: 0.648428818344148\nPartition: csv_partitions/sc_c2_th21.csv\nClassifier: GaussianNB() \n AUC: 0.6489054809667416\nPartition: csv_partitions/sc_c2_th22.csv\nClassifier: GaussianNB() \n AUC: 0.643784896385694\nPartition: csv_partitions/sc_c2_th23.csv\nClassifier: GaussianNB() \n AUC: 0.6404529948825975\nPartition: csv_partitions/sc_c2_th24.csv\nClassifier: GaussianNB() \n AUC: 0.6356557108379542\nPartition: csv_partitions/sc_c2_th25.csv\nClassifier: GaussianNB() \n AUC: 0.6334658290606431\nPartition: csv_partitions/sc_c2_th26.csv\nClassifier: GaussianNB() \n AUC: 0.6329784235312699\nPartition: csv_partitions/sc_c2_th27.csv\nClassifier: GaussianNB() \n AUC: 0.6338465228571362\nPartition: csv_partitions/sc_c2_th28.csv\nClassifier: GaussianNB() \n AUC: 0.631461261261153\nPartition: csv_partitions/sc_c2_th29.csv\nClassifier: GaussianNB() \n AUC: 0.6305195210341031\nPartition: csv_partitions/sc_c2_th30.csv\nClassifier: GaussianNB() \n AUC: 0.6291349679840328\nPartition: csv_partitions/sc_c2_th31.csv\nClassifier: GaussianNB() \n AUC: 0.6274145606930694\nPartition: csv_partitions/sc_c2_th32.csv\nClassifier: GaussianNB() \n AUC: 0.6286264350007578\nPartition: csv_partitions/sc_c2_th33.csv\nClassifier: GaussianNB() \n AUC: 0.6243237427060142\nPartition: csv_partitions/sc_c2_th34.csv\nClassifier: GaussianNB() \n AUC: 0.6239849530998652\nPartition: csv_partitions/sc_c2_th35.csv\nClassifier: GaussianNB() \n AUC: 0.6198636987588628\nPartition: csv_partitions/sc_c2_th36.csv\nClassifier: GaussianNB() \n AUC: 0.6163672957546461\nPartition: csv_partitions/sc_c2_th37.csv\nClassifier: GaussianNB() \n AUC: 0.6139700388225382\nPartition: csv_partitions/sc_c2_th38.csv\nClassifier: GaussianNB() \n AUC: 0.613454859941493\nPartition: csv_partitions/sc_c2_th39.csv\nClassifier: GaussianNB() \n AUC: 0.6159195912543565\nPartition: csv_partitions/sc_c2_th40.csv\nClassifier: GaussianNB() \n AUC: 0.6136242354351817\nPartition: csv_partitions/sc_c2_th41.csv\nClassifier: GaussianNB() \n AUC: 0.6148264158840677\nPartition: csv_partitions/sc_c2_th42.csv\nClassifier: GaussianNB() \n AUC: 0.6155880611385709\nPartition: csv_partitions/sc_c2_th43.csv\nClassifier: GaussianNB() \n AUC: 0.6225790782412322\nPartition: csv_partitions/sc_c2_th44.csv\nClassifier: GaussianNB() \n AUC: 0.6244031087529784\nPartition: csv_partitions/sc_c2_th45.csv\nClassifier: GaussianNB() \n AUC: 0.6232458239471682\nPartition: csv_partitions/sc_c2_th46.csv\nClassifier: GaussianNB() \n AUC: 0.6284102778667997\nPartition: csv_partitions/sc_c2_th47.csv\nClassifier: GaussianNB() \n AUC: 0.6290678050421713\nPartition: csv_partitions/sc_c2_th48.csv\nClassifier: GaussianNB() \n AUC: 0.6235691968474071\nPartition: csv_partitions/sc_c2_th49.csv\nClassifier: GaussianNB() \n AUC: 0.6257755337189194\nPartition: csv_partitions/sc_c2_th50.csv\nClassifier: GaussianNB() \n AUC: 0.6219666458223652\nPartition: csv_partitions/sc_c2_th51.csv\nClassifier: GaussianNB() \n AUC: 0.6300694756983127\nPartition: csv_partitions/sc_c2_th52.csv\nClassifier: GaussianNB() \n AUC: 0.638570056520165\nPartition: csv_partitions/sc_c2_th53.csv\nClassifier: GaussianNB() \n AUC: 0.6403914449090354\nPartition: csv_partitions/sc_c3_th0_0.csv\nClassifier: GaussianNB() \n AUC: 0.6508539172199054\nPartition: csv_partitions/sc_c3_th0_1.csv\nClassifier: GaussianNB() \n AUC: 0.6570912701171813\nPartition: csv_partitions/sc_c3_th0_2.csv\nClassifier: GaussianNB() \n AUC: 0.6612369874490233\nPartition: csv_partitions/sc_c3_th0_3.csv\nClassifier: GaussianNB() \n AUC: 0.661507957018864\nPartition: csv_partitions/sc_c3_th0_4.csv\nClassifier: GaussianNB() \n AUC: 0.6636112527534439\nPartition: csv_partitions/sc_c3_th0_5.csv\nClassifier: GaussianNB() \n AUC: 0.667211268663777\nPartition: csv_partitions/sc_c3_th0_6.csv\nClassifier: GaussianNB() \n AUC: 0.6638928159789124\nPartition: csv_partitions/sc_c3_th0_7.csv\nClassifier: GaussianNB() \n AUC: 0.6528130592480988\nPartition: csv_partitions/sc_c3_th1_0.csv\nClassifier: GaussianNB() \n AUC: 0.6355478818530156\nPartition: csv_partitions/sc_c3_th1_1.csv\nClassifier: GaussianNB() \n AUC: 0.6439901270411548\nPartition: csv_partitions/sc_c3_th1_2.csv\nClassifier: GaussianNB() \n AUC: 0.6469903300691265\nPartition: csv_partitions/sc_c3_th1_3.csv\nClassifier: GaussianNB() \n AUC: 0.6462256843234505\nPartition: csv_partitions/sc_c3_th1_4.csv\nClassifier: GaussianNB() \n AUC: 0.6513760010573245\nPartition: csv_partitions/sc_c3_th1_5.csv\nClassifier: GaussianNB() \n AUC: 0.6563654354655845\nPartition: csv_partitions/sc_c3_th1_6.csv\nClassifier: GaussianNB() \n AUC: 0.6551254587603997\nPartition: csv_partitions/sc_c3_th1_7.csv\nClassifier: GaussianNB() \n AUC: 0.6487654375630125\nPartition: csv_partitions/sc_c3_th2_0.csv\nClassifier: GaussianNB() \n AUC: 0.6227648424157771\nPartition: csv_partitions/sc_c3_th2_1.csv\nClassifier: GaussianNB() \n AUC: 0.6319791004689275\nPartition: csv_partitions/sc_c3_th2_2.csv\nClassifier: GaussianNB() \n AUC: 0.6357067689515997\nPartition: csv_partitions/sc_c3_th2_3.csv\nClassifier: GaussianNB() \n AUC: 0.6358444680242863\nPartition: csv_partitions/sc_c3_th2_4.csv\nClassifier: GaussianNB() \n AUC: 0.6414563319428559\nPartition: csv_partitions/sc_c3_th2_5.csv\nClassifier: GaussianNB() \n AUC: 0.6472946092494051\nPartition: csv_partitions/sc_c3_th2_6.csv\nClassifier: GaussianNB() \n AUC: 0.646716571264759\nPartition: csv_partitions/sc_c3_th2_7.csv\nClassifier: GaussianNB() \n AUC: 0.6400209965971742\nPartition: csv_partitions/sc_c3_th3_0.csv\nClassifier: GaussianNB() \n AUC: 0.6156233169198557\nPartition: csv_partitions/sc_c3_th3_1.csv\nClassifier: GaussianNB() \n AUC: 0.6252927315460642\nPartition: csv_partitions/sc_c3_th3_2.csv\nClassifier: GaussianNB() \n AUC: 0.6299457373376338\nPartition: csv_partitions/sc_c3_th3_3.csv\nClassifier: GaussianNB() \n AUC: 0.6309521489745664\nPartition: csv_partitions/sc_c3_th3_4.csv\nClassifier: GaussianNB() \n AUC: 0.6372892395108047\nPartition: csv_partitions/sc_c3_th3_5.csv\nClassifier: GaussianNB() \n AUC: 0.6432000207188133\nPartition: csv_partitions/sc_c3_th3_6.csv\nClassifier: GaussianNB() \n AUC: 0.6421976494296566\nPartition: csv_partitions/sc_c3_th3_7.csv\nClassifier: GaussianNB() \n AUC: 0.6356087688191128\nPartition: csv_partitions/sc_c3_th4_0.csv\nClassifier: GaussianNB() \n AUC: 0.6111230870269937\nPartition: csv_partitions/sc_c3_th4_1.csv\nClassifier: GaussianNB() \n AUC: 0.6216169365886739\nPartition: csv_partitions/sc_c3_th4_2.csv\nClassifier: GaussianNB() \n AUC: 0.6270538603367963\nPartition: csv_partitions/sc_c3_th4_3.csv\nClassifier: GaussianNB() \n AUC: 0.6293418455301969\nPartition: csv_partitions/sc_c3_th4_4.csv\nClassifier: GaussianNB() \n AUC: 0.6347826112901662\nPartition: csv_partitions/sc_c3_th4_5.csv\nClassifier: GaussianNB() \n AUC: 0.6404928527989705\nPartition: csv_partitions/sc_c3_th4_6.csv\nClassifier: GaussianNB() \n AUC: 0.638590379229792\nPartition: csv_partitions/sc_c3_th4_7.csv\nClassifier: GaussianNB() \n AUC: 0.6324995330067057\nPartition: csv_partitions/sc_c3_th5_0.csv\nClassifier: GaussianNB() \n AUC: 0.608399546875498\nPartition: csv_partitions/sc_c3_th5_1.csv\nClassifier: GaussianNB() \n AUC: 0.6186815952564185\nPartition: csv_partitions/sc_c3_th5_2.csv\nClassifier: GaussianNB() \n AUC: 0.6257278383751721\nPartition: csv_partitions/sc_c3_th5_3.csv\nClassifier: GaussianNB() \n AUC: 0.6282995851747998\nPartition: csv_partitions/sc_c3_th5_4.csv\nClassifier: GaussianNB() \n AUC: 0.6326601044638076\nPartition: csv_partitions/sc_c3_th5_5.csv\nClassifier: GaussianNB() \n AUC: 0.6384617880674146\nPartition: csv_partitions/sc_c3_th5_6.csv\nClassifier: GaussianNB() \n AUC: 0.6356938947321352\nPartition: csv_partitions/sc_c3_th5_7.csv\nClassifier: GaussianNB() \n AUC: 0.6299743283382248\nPartition: csv_partitions/sc_c3_th6_0.csv\nClassifier: GaussianNB() \n AUC: 0.5839254805572655\nPartition: csv_partitions/sc_c3_th6_1.csv\nClassifier: GaussianNB() \n AUC: 0.604291614409039\nPartition: csv_partitions/sc_c3_th6_2.csv\nClassifier: GaussianNB() \n AUC: 0.619202496386237\nPartition: csv_partitions/sc_c3_th6_3.csv\nClassifier: GaussianNB() \n AUC: 0.6222641339696345\nPartition: csv_partitions/sc_c3_th6_4.csv\nClassifier: GaussianNB() \n AUC: 0.6278359359567489\nPartition: csv_partitions/sc_c3_th6_5.csv\nClassifier: GaussianNB() \n AUC: 0.634126274449064\nPartition: csv_partitions/sc_c3_th6_6.csv\nClassifier: GaussianNB() \n AUC: 0.6318182472985103\nPartition: csv_partitions/sc_c3_th6_7.csv\nClassifier: GaussianNB() \n AUC: 0.6265819707464118\n"
    }
   ],
   "source": [
    "results_GNB = VIC(folder, GaussianNB())"
   ]
  },
  {
   "cell_type": "code",
   "execution_count": 27,
   "metadata": {},
   "outputs": [
    {
     "output_type": "error",
     "ename": "NameError",
     "evalue": "name 'folder' is not defined",
     "traceback": [
      "\u001b[0;31m---------------------------------------------------------------------------\u001b[0m",
      "\u001b[0;31mNameError\u001b[0m                                 Traceback (most recent call last)",
      "\u001b[0;32m<ipython-input-27-8ca1d8e7a6f8>\u001b[0m in \u001b[0;36m<module>\u001b[0;34m\u001b[0m\n\u001b[0;32m----> 1\u001b[0;31m \u001b[0mresults_GBC\u001b[0m \u001b[0;34m=\u001b[0m \u001b[0mVIC\u001b[0m\u001b[0;34m(\u001b[0m\u001b[0mfolder\u001b[0m\u001b[0;34m,\u001b[0m \u001b[0mGradientBoostingClassifier\u001b[0m\u001b[0;34m(\u001b[0m\u001b[0;34m)\u001b[0m\u001b[0;34m)\u001b[0m\u001b[0;34m\u001b[0m\u001b[0;34m\u001b[0m\u001b[0m\n\u001b[0m",
      "\u001b[0;31mNameError\u001b[0m: name 'folder' is not defined"
     ]
    }
   ],
   "source": [
    "results_GBC = VIC(folder, GradientBoostingClassifier())"
   ]
  },
  {
   "cell_type": "code",
   "execution_count": null,
   "metadata": {},
   "outputs": [],
   "source": [
    "results_LDA= VIC(Path, LinearDiscriminantAnalysis(solver = 'lsqr'))\n",
    "results_KNN = VIC(Path, KNeighborsClassifier(5))\n",
    "results_RF= VIC(Path, RandomForestClassifier(n_estimators=100, max_depth=2,n_jobs=-1))\n",
    "sults_KNN = VIC(Path, KNeighborsClassifier(5))"
   ]
  },
  {
   "cell_type": "code",
   "execution_count": 26,
   "metadata": {},
   "outputs": [],
   "source": [
    "create_csv(results_GNB, 'classGNB.csv')"
   ]
  },
  {
   "cell_type": "code",
   "execution_count": null,
   "metadata": {},
   "outputs": [],
   "source": [
    "create_csv(results_GBC, 'classGBC.csv')"
   ]
  }
 ],
 "metadata": {
  "language_info": {
   "codemirror_mode": {
    "name": "ipython",
    "version": 3
   },
   "file_extension": ".py",
   "mimetype": "text/x-python",
   "name": "python",
   "nbconvert_exporter": "python",
   "pygments_lexer": "ipython3",
   "version": "3.7.4-final"
  },
  "orig_nbformat": 2,
  "kernelspec": {
   "name": "python3",
   "display_name": "Python 3"
  }
 },
 "nbformat": 4,
 "nbformat_minor": 2
}